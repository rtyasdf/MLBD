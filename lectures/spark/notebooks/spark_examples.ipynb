{
 "cells": [
  {
   "cell_type": "markdown",
   "metadata": {},
   "source": [
    "# Programming with RDDs\n",
    "\n",
    "#### Links\n",
    "\n",
    "* https://spark.apache.org/docs/1.6.0/programming-guide.html#resilient-distributed-datasets-rdds\n",
    "* https://spark.apache.org/docs/1.1.1/api/python/pyspark.rdd.RDD-class.html"
   ]
  },
  {
   "cell_type": "code",
   "execution_count": 1,
   "metadata": {
    "scrolled": false
   },
   "outputs": [],
   "source": [
    "%matplotlib inline\n",
    "%config InlineBackend.figure_format ='retina'\n",
    "\n",
    "import os\n",
    "import sys\n",
    "import glob\n",
    "import pickle\n",
    "import seaborn as sns\n",
    "import matplotlib.pyplot as plt\n",
    "import sys\n",
    "sys.path.append('./')\n",
    "\n",
    "from utils import *\n",
    "\n",
    "\n",
    "os.environ[\"PYSPARK_PYTHON\"] = \"/usr/local/bin/python3.5\""
   ]
  },
  {
   "cell_type": "code",
   "execution_count": 2,
   "metadata": {},
   "outputs": [
    {
     "name": "stdout",
     "output_type": "stream",
     "text": [
      "Welcome to\r\n",
      "      ____              __\r\n",
      "     / __/__  ___ _____/ /__\r\n",
      "    _\\ \\/ _ \\/ _ `/ __/  '_/\r\n",
      "   /___/ .__/\\_,_/_/ /_/\\_\\   version 1.6.0\r\n",
      "      /_/\r\n",
      "                        \r\n",
      "Type --help for more information.\r\n"
     ]
    }
   ],
   "source": [
    "!spark-submit --version"
   ]
  },
  {
   "cell_type": "markdown",
   "metadata": {},
   "source": [
    "## Запускаем Spark"
   ]
  },
  {
   "cell_type": "code",
   "execution_count": 3,
   "metadata": {},
   "outputs": [],
   "source": [
    "import pyspark\n",
    "from pyspark.conf import SparkConf\n",
    "from pyspark.sql import SQLContext\n",
    "\n",
    "\n",
    "conf = SparkConf()\n",
    "conf.setMaster(\"yarn-client\")\n",
    "# conf.setMaster(\"local[*]\")\n",
    "conf.setAppName(\"spark_examples\")\n",
    "conf.set(\"spark.executor.memory\", \"2g\")\n",
    "conf.set(\"spark.core.connection.ack.wait.timeout\", \"1200\")\n",
    "\n",
    "conf.set(\"spark.executor.instances\", \"2\")  # кол-во  executor'ов\n",
    "conf.set(\"spark.executor.cores\", \"2\")  # сколько ядер у каждого\n",
    "\n",
    "sc = pyspark.SparkContext(conf = conf)\n",
    "sc.addPyFile('./utils.py')\n",
    "sqlContext = SQLContext(sc)"
   ]
  },
  {
   "cell_type": "markdown",
   "metadata": {},
   "source": [
    "## Работа с hdfs\n",
    "\n",
    "Утилитой командной строки -- `hdfs` (https://hadoop.apache.org/docs/current/hadoop-project-dist/hadoop-common/FileSystemShell.html)\n",
    "\n",
    "Полезные команды:\n",
    "* `hdfs dfs -ls [<path>]`\n",
    "* `hdfs dfs -rm <path>`\n",
    "* `hdfs dfs -mv <src> <dst>`\n",
    "* `hdfs dfs -copyToLocal <src> <dst local>`\n",
    "* `hdfs dfs -copyFromLocal <src local> <dst>`\n",
    "\n",
    "\n",
    "### Копирование данных\n",
    "\n",
    "Прежде чем начать работать с самим данными их нужно сохранить в hdfs.\n",
    "\n",
    "1. Запустите terminal через Jupyter\n",
    "2. `hdfs dfs -copyFromLocal data .`\n",
    "\n",
    "\n",
    "Проверяем, что все данные на месте"
   ]
  },
  {
   "cell_type": "code",
   "execution_count": 4,
   "metadata": {},
   "outputs": [
    {
     "name": "stdout",
     "output_type": "stream",
     "text": [
      "Found 9 items\r\n",
      "-rw-r--r--   1 root supergroup      10460 2021-02-02 17:02 data/ml-25m/README.txt\r\n",
      "-rw-r--r--   1 root supergroup  435164157 2021-02-02 17:02 data/ml-25m/genome-scores.csv\r\n",
      "-rw-r--r--   1 root supergroup      18103 2021-02-02 17:02 data/ml-25m/genome-tags.csv\r\n",
      "-rw-r--r--   1 root supergroup    1368578 2021-02-02 17:02 data/ml-25m/links.csv\r\n",
      "-rw-r--r--   1 root supergroup      12022 2021-02-02 17:02 data/ml-25m/ml-25m-README.htm\r\n",
      "-rw-r--r--   1 root supergroup    3038099 2021-02-02 17:02 data/ml-25m/movies.csv\r\n",
      "-rw-r--r--   1 root supergroup  678260987 2021-02-02 17:02 data/ml-25m/ratings.csv\r\n",
      "-rw-r--r--   1 root supergroup   38810332 2021-02-02 17:02 data/ml-25m/tags.csv\r\n",
      "-rw-r--r--   1 root supergroup  404281742 2021-02-02 17:02 data/ml-25m/tmdb.json\r\n"
     ]
    }
   ],
   "source": [
    "!hdfs dfs -ls data/ml-25m/"
   ]
  },
  {
   "cell_type": "markdown",
   "metadata": {},
   "source": [
    "### Чтение данных\n",
    "\n",
    "*Замечание*: Файл `ml-25m-README.htm` содержит описание данных"
   ]
  },
  {
   "cell_type": "code",
   "execution_count": 15,
   "metadata": {},
   "outputs": [],
   "source": [
    "DATA_PATH = 'data/ml-25m'\n",
    "\n",
    "RATINGS_PATH = os.path.join(DATA_PATH, 'ratings.csv')\n",
    "MOVIES_PATH = os.path.join(DATA_PATH, 'movies.csv')\n",
    "TAGS_PATH = os.path.join(DATA_PATH, 'tags.csv')"
   ]
  },
  {
   "cell_type": "code",
   "execution_count": 16,
   "metadata": {},
   "outputs": [],
   "source": [
    "ratings = sc.textFile(RATINGS_PATH)"
   ]
  },
  {
   "cell_type": "code",
   "execution_count": 7,
   "metadata": {},
   "outputs": [
    {
     "name": "stdout",
     "output_type": "stream",
     "text": [
      "CPU times: user 20.8 ms, sys: 3.4 ms, total: 24.2 ms\n",
      "Wall time: 3.26 s\n"
     ]
    },
    {
     "data": {
      "text/plain": [
       "['userId,movieId,rating,timestamp',\n",
       " '1,296,5.0,1147880044',\n",
       " '1,306,3.5,1147868817',\n",
       " '1,307,5.0,1147868828',\n",
       " '1,665,5.0,1147878820']"
      ]
     },
     "execution_count": 7,
     "metadata": {},
     "output_type": "execute_result"
    }
   ],
   "source": [
    "%%time\n",
    "ratings.take(5)"
   ]
  },
  {
   "cell_type": "code",
   "execution_count": 8,
   "metadata": {},
   "outputs": [
    {
     "data": {
      "text/plain": [
       "21"
      ]
     },
     "execution_count": 8,
     "metadata": {},
     "output_type": "execute_result"
    }
   ],
   "source": [
    "ratings.getNumPartitions()"
   ]
  },
  {
   "cell_type": "code",
   "execution_count": 20,
   "metadata": {},
   "outputs": [],
   "source": [
    "ratings = ratings \\\n",
    "    .map(lambda s: s.split(',')) \\\n",
    "    .filter(lambda arr: arr[0].isdigit()) \\\n",
    "    .map(lambda arr: Rating(user_id=int(arr[0]), \n",
    "                            movie_id=int(arr[1]), \n",
    "                            rating=float(arr[2]), \n",
    "                            timestamp=int(arr[3])))"
   ]
  },
  {
   "cell_type": "code",
   "execution_count": 10,
   "metadata": {},
   "outputs": [
    {
     "data": {
      "text/plain": [
       "25000095"
      ]
     },
     "execution_count": 10,
     "metadata": {},
     "output_type": "execute_result"
    }
   ],
   "source": [
    "ratings.count()"
   ]
  },
  {
   "cell_type": "markdown",
   "metadata": {},
   "source": [
    "Количество пользователей"
   ]
  },
  {
   "cell_type": "code",
   "execution_count": 11,
   "metadata": {},
   "outputs": [
    {
     "name": "stdout",
     "output_type": "stream",
     "text": [
      "CPU times: user 60.6 ms, sys: 17 ms, total: 77.5 ms\n",
      "Wall time: 52.8 s\n"
     ]
    },
    {
     "data": {
      "text/plain": [
       "162541"
      ]
     },
     "execution_count": 11,
     "metadata": {},
     "output_type": "execute_result"
    }
   ],
   "source": [
    "%%time\n",
    "\n",
    "ratings \\\n",
    "    .map(lambda r: r.user_id)\\\n",
    "    .distinct()\\\n",
    "    .count()"
   ]
  },
  {
   "cell_type": "markdown",
   "metadata": {},
   "source": [
    "Сохраним датасет в память"
   ]
  },
  {
   "cell_type": "code",
   "execution_count": 9,
   "metadata": {},
   "outputs": [],
   "source": [
    "ratings = ratings.persist()"
   ]
  },
  {
   "cell_type": "code",
   "execution_count": 8,
   "metadata": {},
   "outputs": [
    {
     "name": "stdout",
     "output_type": "stream",
     "text": [
      "CPU times: user 20 ms, sys: 50 ms, total: 70 ms\n",
      "Wall time: 1min 28s\n"
     ]
    },
    {
     "data": {
      "text/plain": [
       "162541"
      ]
     },
     "execution_count": 8,
     "metadata": {},
     "output_type": "execute_result"
    }
   ],
   "source": [
    "%%time\n",
    "\n",
    "ratings \\\n",
    "    .map(lambda r: r.user_id)\\\n",
    "    .distinct()\\\n",
    "    .count()"
   ]
  },
  {
   "cell_type": "markdown",
   "metadata": {},
   "source": [
    "Количество фильмов"
   ]
  },
  {
   "cell_type": "code",
   "execution_count": 12,
   "metadata": {},
   "outputs": [
    {
     "name": "stdout",
     "output_type": "stream",
     "text": [
      "CPU times: user 31.8 ms, sys: 14.7 ms, total: 46.4 ms\n",
      "Wall time: 55.6 s\n"
     ]
    },
    {
     "data": {
      "text/plain": [
       "59047"
      ]
     },
     "execution_count": 12,
     "metadata": {},
     "output_type": "execute_result"
    }
   ],
   "source": [
    "%%time\n",
    "\n",
    "ratings \\\n",
    "    .map(lambda r: r.movie_id)\\\n",
    "    .distinct()\\\n",
    "    .count()"
   ]
  },
  {
   "cell_type": "markdown",
   "metadata": {},
   "source": [
    "## Упражнения"
   ]
  },
  {
   "cell_type": "markdown",
   "metadata": {},
   "source": [
    "### Фильмы с наибольшим средним рейтингом\n",
    "\n",
    "Найти 10 фильмов с наибольшим средним рейтингом. Вывести их названия и средний рейтинг"
   ]
  },
  {
   "cell_type": "code",
   "execution_count": 22,
   "metadata": {},
   "outputs": [
    {
     "data": {
      "text/plain": [
       "['movieId,title,genres',\n",
       " '1,Toy Story (1995),Adventure|Animation|Children|Comedy|Fantasy',\n",
       " '2,Jumanji (1995),Adventure|Children|Fantasy',\n",
       " '3,Grumpier Old Men (1995),Comedy|Romance',\n",
       " '4,Waiting to Exhale (1995),Comedy|Drama|Romance']"
      ]
     },
     "execution_count": 22,
     "metadata": {},
     "output_type": "execute_result"
    }
   ],
   "source": [
    "movies = sc.textFile(MOVIES_PATH)\n",
    "movies.take(5)"
   ]
  },
  {
   "cell_type": "code",
   "execution_count": 23,
   "metadata": {},
   "outputs": [
    {
     "data": {
      "text/plain": [
       "[(196959, (5.0, ['196959', 'I Am JFK Jr. (2016)'])),\n",
       " (180663, (5.0, ['180663', '\"Goodbye'])),\n",
       " (147966, (5.0, ['147966', \"Tarzan's Fight for Life (1958)\"])),\n",
       " (131628, (5.0, ['131628', 'Loaded (2014)'])),\n",
       " (131922, (5.0, ['131922', 'Private Duty Nurses (1971)'])),\n",
       " (164787, (5.0, ['164787', 'You Cast A Spell On Me (2015)'])),\n",
       " (132321, (5.0, ['132321', 'Black Oak Conspiracy (1977)'])),\n",
       " (165221, (5.0, ['165221', 'Elf Bowling the Movie (2007)'])),\n",
       " (149268, (5.0, ['149268', 'The Pied Piper (1942)'])),\n",
       " (175077, (5.0, ['175077', 'Fatal Call (2012)']))]"
      ]
     },
     "execution_count": 23,
     "metadata": {},
     "output_type": "execute_result"
    }
   ],
   "source": [
    "movies = movies \\\n",
    "    .map(lambda s: s.split(',')[:2]) \\\n",
    "    .filter(lambda arr: arr[0].isdigit()) \\\n",
    "    .keyBy(lambda arr: int(arr[0]))\n",
    "\n",
    "movie_avg_rating = ratings \\\n",
    "    .map(lambda r: (r.movie_id, (r.rating, 1))) \\\n",
    "    .reduceByKey(lambda a, b: (a[0] + b[0], a[1] + b[1])) \\\n",
    "    .mapValues(lambda ratings: ratings[0] / ratings[1])\n",
    "\n",
    "movie_avg_rating \\\n",
    "    .join(movies) \\\n",
    "    .sortBy(lambda key_value: key_value[1][0], ascending=False)\\\n",
    "    .take(10)"
   ]
  },
  {
   "cell_type": "markdown",
   "metadata": {},
   "source": [
    "Сохраните `rdd`, состоящий из строк вида `<movie_id>,<average_rating>` на hdfs в виде текстового файла"
   ]
  },
  {
   "cell_type": "code",
   "execution_count": 24,
   "metadata": {},
   "outputs": [],
   "source": [
    "movie_avg_rating\\\n",
    "    .repartition(10) \\\n",
    "    .saveAsTextFile(os.path.join(DATA_PATH, 'movie_avg_rating'))"
   ]
  },
  {
   "cell_type": "code",
   "execution_count": 25,
   "metadata": {},
   "outputs": [
    {
     "name": "stdout",
     "output_type": "stream",
     "text": [
      "Found 11 items\n",
      "-rw-r--r--   1 root supergroup          0 2021-02-02 17:18 data/ml-25m/movie_avg_rating/_SUCCESS\n",
      "-rw-r--r--   1 root supergroup      58976 2021-02-02 17:18 data/ml-25m/movie_avg_rating/part-00000\n",
      "-rw-r--r--   1 root supergroup     112528 2021-02-02 17:18 data/ml-25m/movie_avg_rating/part-00001\n",
      "-rw-r--r--   1 root supergroup     131435 2021-02-02 17:18 data/ml-25m/movie_avg_rating/part-00002\n",
      "-rw-r--r--   1 root supergroup     114337 2021-02-02 17:18 data/ml-25m/movie_avg_rating/part-00003\n",
      "-rw-r--r--   1 root supergroup     133615 2021-02-02 17:18 data/ml-25m/movie_avg_rating/part-00004\n",
      "-rw-r--r--   1 root supergroup     117755 2021-02-02 17:18 data/ml-25m/movie_avg_rating/part-00005\n",
      "-rw-r--r--   1 root supergroup     142933 2021-02-02 17:18 data/ml-25m/movie_avg_rating/part-00006\n",
      "-rw-r--r--   1 root supergroup     132298 2021-02-02 17:18 data/ml-25m/movie_avg_rating/part-00007\n",
      "-rw-r--r--   1 root supergroup     167627 2021-02-02 17:18 data/ml-25m/movie_avg_rating/part-00008\n",
      "-rw-r--r--   1 root supergroup     100327 2021-02-02 17:18 data/ml-25m/movie_avg_rating/part-00009\n"
     ]
    }
   ],
   "source": [
    "! hdfs dfs -ls data/ml-25m/movie_avg_rating"
   ]
  },
  {
   "cell_type": "markdown",
   "metadata": {},
   "source": [
    "### Популярность тэгов\n",
    "\n",
    "Найти 20 наиболее популярных тэгов"
   ]
  },
  {
   "cell_type": "code",
   "execution_count": 26,
   "metadata": {},
   "outputs": [
    {
     "data": {
      "text/plain": [
       "['userId,movieId,tag,timestamp',\n",
       " '3,260,classic,1439472355',\n",
       " '3,260,sci-fi,1439472256',\n",
       " '4,1732,dark comedy,1573943598',\n",
       " '4,1732,great dialogue,1573943604']"
      ]
     },
     "execution_count": 26,
     "metadata": {},
     "output_type": "execute_result"
    }
   ],
   "source": [
    "tags = sc.textFile(TAGS_PATH)\n",
    "tags.take(5)"
   ]
  },
  {
   "cell_type": "code",
   "execution_count": 27,
   "metadata": {},
   "outputs": [
    {
     "data": {
      "text/plain": [
       "73016"
      ]
     },
     "execution_count": 27,
     "metadata": {},
     "output_type": "execute_result"
    }
   ],
   "source": [
    "tags_count = tags\\\n",
    "    .map(lambda s: (s.split(',')[2], 1))\\\n",
    "    .reduceByKey(lambda a, b: a + b)\\\n",
    "    .collect()\n",
    "\n",
    "len(tags_count)"
   ]
  },
  {
   "cell_type": "code",
   "execution_count": 28,
   "metadata": {},
   "outputs": [],
   "source": [
    "tags_count = sorted(tags_count, key=lambda tag_count: tag_count[1], reverse=True)"
   ]
  },
  {
   "cell_type": "code",
   "execution_count": 29,
   "metadata": {},
   "outputs": [
    {
     "data": {
      "image/png": "[encoded data removed]",
      "text/plain": [
       "<Figure size 720x432 with 1 Axes>"
      ]
     },
     "metadata": {
      "image/png": {
       "height": 489,
       "width": 606
      },
      "needs_background": "light"
     },
     "output_type": "display_data"
    }
   ],
   "source": [
    "keys, values = zip(*tags_count[:20])\n",
    "\n",
    "f, ax = plt.subplots(figsize=(10, 6))\n",
    "plt.xticks(rotation=85, fontsize=15)\n",
    "plt.bar(keys, values, align=\"center\")\n",
    "plt.show()"
   ]
  },
  {
   "cell_type": "markdown",
   "metadata": {},
   "source": [
    "### Фильмы с наибольшим числом оценок\n",
    "\n",
    "Найти 10 фильмов с наибольшим числом оценок. Вывести их названия и число оценок"
   ]
  },
  {
   "cell_type": "code",
   "execution_count": 8,
   "metadata": {},
   "outputs": [],
   "source": [
    "######################################\n",
    "######### YOUR CODE HERE #############\n",
    "######################################"
   ]
  },
  {
   "cell_type": "markdown",
   "metadata": {},
   "source": [
    "### Фильмы с наибольшим числом 5\n",
    "\n",
    "Найти 10 фильмов с наибольшим числом 5ок в качестве оценки. Вывести их названия и число 5ок"
   ]
  },
  {
   "cell_type": "code",
   "execution_count": null,
   "metadata": {},
   "outputs": [],
   "source": [
    "######################################\n",
    "######### YOUR CODE HERE #############\n",
    "######################################"
   ]
  },
  {
   "cell_type": "markdown",
   "metadata": {},
   "source": [
    "### Распределение рейтингов фильмов\n",
    "\n",
    "Построить распределение фильмов по ср. рейтингам  (гистограмму)"
   ]
  },
  {
   "cell_type": "code",
   "execution_count": null,
   "metadata": {},
   "outputs": [],
   "source": [
    "######################################\n",
    "######### YOUR CODE HERE #############\n",
    "######################################"
   ]
  },
  {
   "cell_type": "markdown",
   "metadata": {},
   "source": [
    "### Распределение числа оценок для фильмов\n",
    "\n",
    "Построить распределение фильмов по числу оценок"
   ]
  },
  {
   "cell_type": "code",
   "execution_count": null,
   "metadata": {},
   "outputs": [],
   "source": [
    "######################################\n",
    "######### YOUR CODE HERE #############\n",
    "######################################"
   ]
  },
  {
   "cell_type": "markdown",
   "metadata": {},
   "source": [
    "### Распределение фильмов по жанрам\n",
    "\n",
    "Построить гистограмму распределения фильмов по жанрам. Обратите внимание, что у фильма может быть указано больше одного жанра."
   ]
  },
  {
   "cell_type": "code",
   "execution_count": null,
   "metadata": {},
   "outputs": [],
   "source": [
    "######################################\n",
    "######### YOUR CODE HERE #############\n",
    "######################################"
   ]
  },
  {
   "cell_type": "markdown",
   "metadata": {},
   "source": [
    "### Актеры\n",
    "\n",
    "Для решения задач ниже нужно воспользоваться файлами `ratings.csv`, `movies.csv`, `links.csv` и `tmdb.json`.\n",
    "\n",
    "* `links.csv` - задает отображение из `movie_id` в `tmdb_movie_id` (подробное описание в `ml-25m-README.htm`)\n",
    "* `tmdb.json` - содержит большое количество данных о фильмах в формате json (на каждой строчке отдельный json)\n",
    "\n",
    "Задачи\n",
    "\n",
    "1. Найти все фильмы, в которых играл `\"id\":31, \"name\":\"Tom Hanks\"`\n",
    "2. Найти 10 актеров снявшихся в наибольшем числе фильмов. Вывести их имена и кол-во фильмов, в которых они снимались"
   ]
  },
  {
   "cell_type": "code",
   "execution_count": null,
   "metadata": {},
   "outputs": [],
   "source": [
    "######################################\n",
    "######### YOUR CODE HERE #############\n",
    "######################################"
   ]
  },
  {
   "cell_type": "markdown",
   "metadata": {},
   "source": [
    "### Доля жанра в течении времени\n",
    "\n",
    "Для каждого жанра нужно построить как менялась доля вышедших фильмов данного жанра относительно всех остальных жанров.\n",
    "\n",
    "Дату выхода фильма можно взять из файла `tmdb.json`.\n",
    "\n",
    "(См. `plt.stackplot`)"
   ]
  },
  {
   "cell_type": "code",
   "execution_count": null,
   "metadata": {},
   "outputs": [],
   "source": [
    "######################################\n",
    "######### YOUR CODE HERE #############\n",
    "######################################"
   ]
  },
  {
   "cell_type": "markdown",
   "metadata": {},
   "source": [
    "### Окупаемость фильмов\n",
    "\n",
    "Для каждого жанра посчитать `ROI = mean(revenue) / mean(budget)` и построить `barplot`, где по оси x будет название жанра, а по оси y - `ROI`\n",
    "\n",
    "Данные о `revenue` и `budget` можно найти в файле `tmdb.json`."
   ]
  },
  {
   "cell_type": "code",
   "execution_count": null,
   "metadata": {},
   "outputs": [],
   "source": [
    "######################################\n",
    "######### YOUR CODE HERE #############\n",
    "######################################"
   ]
  }
 ],
 "metadata": {
  "kernelspec": {
   "display_name": "Python 3",
   "language": "python",
   "name": "python3"
  },
  "language_info": {
   "codemirror_mode": {
    "name": "ipython",
    "version": 3
   },
   "file_extension": ".py",
   "mimetype": "text/x-python",
   "name": "python",
   "nbconvert_exporter": "python",
   "pygments_lexer": "ipython3",
   "version": "3.5.9"
  }
 },
 "nbformat": 4,
 "nbformat_minor": 2
}
